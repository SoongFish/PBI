{
 "cells": [
  {
   "cell_type": "code",
   "execution_count": 2,
   "metadata": {},
   "outputs": [],
   "source": [
    "\n",
    "import requests\n",
    "import lxml.html\n",
    "import pandas as pd\n",
    "import sqlite3\n",
    "from pandas.io import sql\n",
    "import os"
   ]
  },
  {
   "cell_type": "code",
   "execution_count": 5,
   "metadata": {},
   "outputs": [],
   "source": [
    "REG_DATE = '20200902'"
   ]
  },
  {
   "cell_type": "code",
   "execution_count": 6,
   "metadata": {
    "scrolled": true
   },
   "outputs": [
    {
     "name": "stdout",
     "output_type": "stream",
     "text": [
      "https://v.daum.net/v/20200902130111156 코로나19 이후 질병극복·수명연장 실현 가능할까?\n",
      "https://v.daum.net/v/20200902130100147 KAIST, 의료·바이오 국제포럼 9일 개최.. '파킨슨병 임상치료 최초 성공' 김광수 교수 초청\n",
      "https://v.daum.net/v/20200902130018132 토마스 프레이, KAIST에서 '포스트 코로나' 전망\n",
      "https://v.daum.net/v/20200902130012129 저녁에 TV나 스마트폰 오래 보면 정자의 질 떨어진다\n",
      "https://v.daum.net/v/20200902130006124 KAIST, '포스트 코로나, 포스트 휴먼' 주제로 온라인 국제포럼\n",
      "https://v.daum.net/v/20200902130006123 코로나19 이후 인류의 미래는..KAIST, 세계 석학 온라인 포럼\n",
      "https://v.daum.net/v/20200902125910106 SPC삼립, 밀키트 전문기업과 MOU 체결\n",
      "https://v.daum.net/v/20200902125754092 NHN에듀·호전리테일, 항균 교복 만든다\n",
      "https://v.daum.net/v/20200902125703083 미스&미스터 트롯을 스마트폰으로 편하게, 네오위즈 전용 앱 출시\n",
      "https://v.daum.net/v/20200902125444031 LG전자, 새 전략폰 'LG 윙' 14일 공개\n",
      "https://v.daum.net/v/20200902125323003 미스&미스터트롯, 이젠 앱에서도 즐긴다!\n",
      "https://v.daum.net/v/20200902125219990 윤홍근 BBQ 회장 \"2025년 전 세계 5만개 가맹점 개설\"\n",
      "https://v.daum.net/v/20200902125217988 대기업 경영권 승계 속도 빨라져..총수자녀, 핵심 계열사 지분 확대\n",
      "https://v.daum.net/v/20200902125202979 엠게임 모바일 MMORPG '진열혈강호', 태국 수출 계약 체결\n",
      "https://v.daum.net/v/20200902125111963 카카오게임즈, PC게임 '패스오브엑자일' 19일 시즌6 '강탈' 적용\n"
     ]
    }
   ],
   "source": [
    "response = requests.get('https://news.daum.net/breakingnews/digital?regDate={}'.format(REG_DATE))                   \n",
    "root = lxml.html.fromstring(response.content)\n",
    "for li in root.xpath('//*[@id=\"mArticle\"]/div[3]/ul/li'):\n",
    "    a = li.xpath('div/strong/a')[0]\n",
    "    url = a.get('href')\n",
    "    print(url, a.text)"
   ]
  },
  {
   "cell_type": "code",
   "execution_count": null,
   "metadata": {},
   "outputs": [],
   "source": []
  }
 ],
 "metadata": {
  "kernelspec": {
   "display_name": "Python 3",
   "language": "python",
   "name": "python3"
  },
  "language_info": {
   "codemirror_mode": {
    "name": "ipython",
    "version": 3
   },
   "file_extension": ".py",
   "mimetype": "text/x-python",
   "name": "python",
   "nbconvert_exporter": "python",
   "pygments_lexer": "ipython3",
   "version": "3.8.3"
  }
 },
 "nbformat": 4,
 "nbformat_minor": 4
}
